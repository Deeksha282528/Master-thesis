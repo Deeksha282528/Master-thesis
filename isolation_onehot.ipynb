{
 "cells": [
  {
   "cell_type": "code",
   "execution_count": 16,
   "metadata": {},
   "outputs": [],
   "source": [
    "import sys\n",
    "import re\n",
    "import pandas as pd\n",
    "import numpy as np\n",
    "import nltk\n",
    "from sklearn.ensemble import IsolationForest\n",
    "from sklearn.preprocessing import OneHotEncoder\n",
    "from sklearn.preprocessing import LabelEncoder\n",
    "from sklearn.feature_extraction.text import CountVectorizer\n",
    "from sklearn.preprocessing import MinMaxScaler\n",
    "from sklearn.preprocessing import StandardScaler\n",
    "from collections import Counter\n",
    "import tensorflow as tf\n",
    "import matplotlib.pyplot as plt\n",
    "from tensorflow.keras import Model\n",
    "from tensorflow.keras import Sequential\n",
    "from tensorflow.keras.layers import Dense, Dropout\n",
    "from tensorflow.keras.losses import MeanSquaredLogarithmicError"
   ]
  },
  {
   "cell_type": "code",
   "execution_count": 17,
   "metadata": {},
   "outputs": [
    {
     "name": "stderr",
     "output_type": "stream",
     "text": [
      "[nltk_data] Downloading package stopwords to\n",
      "[nltk_data]     /Users/dramakrishna/nltk_data...\n",
      "[nltk_data]   Package stopwords is already up-to-date!\n"
     ]
    },
    {
     "data": {
      "text/html": [
       "<div>\n",
       "<style scoped>\n",
       "    .dataframe tbody tr th:only-of-type {\n",
       "        vertical-align: middle;\n",
       "    }\n",
       "\n",
       "    .dataframe tbody tr th {\n",
       "        vertical-align: top;\n",
       "    }\n",
       "\n",
       "    .dataframe thead th {\n",
       "        text-align: right;\n",
       "    }\n",
       "</style>\n",
       "<table border=\"1\" class=\"dataframe\">\n",
       "  <thead>\n",
       "    <tr style=\"text-align: right;\">\n",
       "      <th></th>\n",
       "      <th>Content</th>\n",
       "    </tr>\n",
       "  </thead>\n",
       "  <tbody>\n",
       "    <tr>\n",
       "      <th>0</th>\n",
       "      <td>GET status 200</td>\n",
       "    </tr>\n",
       "    <tr>\n",
       "      <th>1</th>\n",
       "      <td>GET status 200</td>\n",
       "    </tr>\n",
       "    <tr>\n",
       "      <th>2</th>\n",
       "      <td>GET status 200</td>\n",
       "    </tr>\n",
       "    <tr>\n",
       "      <th>3</th>\n",
       "      <td>GET status 200</td>\n",
       "    </tr>\n",
       "    <tr>\n",
       "      <th>4</th>\n",
       "      <td>GET status 200</td>\n",
       "    </tr>\n",
       "  </tbody>\n",
       "</table>\n",
       "</div>"
      ],
      "text/plain": [
       "           Content\n",
       "0  GET status 200 \n",
       "1  GET status 200 \n",
       "2  GET status 200 \n",
       "3  GET status 200 \n",
       "4  GET status 200 "
      ]
     },
     "execution_count": 17,
     "metadata": {},
     "output_type": "execute_result"
    }
   ],
   "source": [
    "nltk.download('stopwords')\n",
    "from nltk import word_tokenize\n",
    "\n",
    "y = pd.read_csv('novacontent.csv', header=0)\n",
    "#to drop first column\n",
    "y=y.iloc[:, 1:]\n",
    "y.head(5)"
   ]
  },
  {
   "cell_type": "code",
   "execution_count": 18,
   "metadata": {},
   "outputs": [],
   "source": [
    "y['Content']=y['Content'].str.lower()\n",
    "y['Content']=y['Content'].apply(word_tokenize)\n",
    "#y.to_csv('content.csv')\n",
    "y.to_csv('tokens.csv')"
   ]
  },
  {
   "cell_type": "code",
   "execution_count": 19,
   "metadata": {},
   "outputs": [
    {
     "data": {
      "text/html": [
       "<div>\n",
       "<style scoped>\n",
       "    .dataframe tbody tr th:only-of-type {\n",
       "        vertical-align: middle;\n",
       "    }\n",
       "\n",
       "    .dataframe tbody tr th {\n",
       "        vertical-align: top;\n",
       "    }\n",
       "\n",
       "    .dataframe thead th {\n",
       "        text-align: right;\n",
       "    }\n",
       "</style>\n",
       "<table border=\"1\" class=\"dataframe\">\n",
       "  <thead>\n",
       "    <tr style=\"text-align: right;\">\n",
       "      <th></th>\n",
       "      <th>Content</th>\n",
       "    </tr>\n",
       "  </thead>\n",
       "  <tbody>\n",
       "    <tr>\n",
       "      <th>0</th>\n",
       "      <td>[get, status, 200]</td>\n",
       "    </tr>\n",
       "    <tr>\n",
       "      <th>1</th>\n",
       "      <td>[get, status, 200]</td>\n",
       "    </tr>\n",
       "    <tr>\n",
       "      <th>2</th>\n",
       "      <td>[get, status, 200]</td>\n",
       "    </tr>\n",
       "    <tr>\n",
       "      <th>3</th>\n",
       "      <td>[get, status, 200]</td>\n",
       "    </tr>\n",
       "    <tr>\n",
       "      <th>4</th>\n",
       "      <td>[get, status, 200]</td>\n",
       "    </tr>\n",
       "  </tbody>\n",
       "</table>\n",
       "</div>"
      ],
      "text/plain": [
       "              Content\n",
       "0  [get, status, 200]\n",
       "1  [get, status, 200]\n",
       "2  [get, status, 200]\n",
       "3  [get, status, 200]\n",
       "4  [get, status, 200]"
      ]
     },
     "execution_count": 19,
     "metadata": {},
     "output_type": "execute_result"
    }
   ],
   "source": [
    "y.head(5)"
   ]
  },
  {
   "cell_type": "code",
   "execution_count": 20,
   "metadata": {},
   "outputs": [],
   "source": [
    "empty=[]\n",
    "j=[]\n",
    "for i in y['Content']:\n",
    "    i_len = len(i)\n",
    "    j=np.append(i,np.zeros(40-i_len))\n",
    "    empty.append(j)\n"
   ]
  },
  {
   "cell_type": "code",
   "execution_count": 21,
   "metadata": {},
   "outputs": [],
   "source": [
    "all_words=[]\n",
    "for i in y['Content']:\n",
    "    for j in i:\n",
    "        all_words.append(j)"
   ]
  },
  {
   "cell_type": "code",
   "execution_count": 22,
   "metadata": {},
   "outputs": [
    {
     "data": {
      "text/plain": [
       "Counter({'get': 274,\n",
       "         'status': 275,\n",
       "         '200': 274,\n",
       "         '1': 35,\n",
       "         'servers': 32,\n",
       "         'os': 130,\n",
       "         'interface': 7,\n",
       "         'services': 15,\n",
       "         'host': 7,\n",
       "         'dbl031707': 1,\n",
       "         'dbl': 4,\n",
       "         'sys11cloud': 6,\n",
       "         'net': 6,\n",
       "         'binary': 5,\n",
       "         'nova': 7,\n",
       "         'compute': 6,\n",
       "         'dbl031705': 1,\n",
       "         'quota': 1,\n",
       "         'sets': 1,\n",
       "         'detail': 12,\n",
       "         'name': 4,\n",
       "         'worker': 2,\n",
       "         '977ff8d75': 1,\n",
       "         'zg59b': 1,\n",
       "         'all_tenants': 1,\n",
       "         'true': 1,\n",
       "         'dbl021611': 1,\n",
       "         'active': 1,\n",
       "         'ewe': 1,\n",
       "         'eam': 1,\n",
       "         'exploration': 1,\n",
       "         'mb7g7x': 1,\n",
       "         '58754485d6': 1,\n",
       "         '6mtn5': 1,\n",
       "         'fes300409': 1,\n",
       "         'fes': 2,\n",
       "         'monitoring': 1,\n",
       "         '669645f68f': 1,\n",
       "         'gfhzz': 1,\n",
       "         'virt': 1,\n",
       "         'libvirt': 1,\n",
       "         'imagecache': 1,\n",
       "         'unknown': 1,\n",
       "         'base': 2,\n",
       "         'file': 121,\n",
       "         'var': 1,\n",
       "         'lib': 1,\n",
       "         'instances': 1,\n",
       "         '_base': 1,\n",
       "         '8ac0e742': 1,\n",
       "         'deprecated': 241,\n",
       "         'in': 245,\n",
       "         '21': 121,\n",
       "         '0': 242,\n",
       "         'favor': 121,\n",
       "         'of': 121,\n",
       "         'os_compute_api': 121,\n",
       "         'security': 14,\n",
       "         'groups': 14,\n",
       "         'add': 5,\n",
       "         'rule': 121,\n",
       "         'system_admin_or_owner': 32,\n",
       "         'reason': 121,\n",
       "         'new': 242,\n",
       "         'default': 238,\n",
       "         'roles': 118,\n",
       "         'with': 122,\n",
       "         'scope_type': 118,\n",
       "         'is': 123,\n",
       "         'ready': 120,\n",
       "         'for': 124,\n",
       "         'the': 251,\n",
       "         'or': 120,\n",
       "         'copy': 120,\n",
       "         'paste': 120,\n",
       "         'policy': 250,\n",
       "         'into': 120,\n",
       "         'your': 120,\n",
       "         'and': 236,\n",
       "         'maintain': 120,\n",
       "         'it': 120,\n",
       "         'manually': 120,\n",
       "         'silently': 116,\n",
       "         'going': 116,\n",
       "         'to': 118,\n",
       "         'be': 116,\n",
       "         'ignored': 116,\n",
       "         'update': 7,\n",
       "         'system_admin_api': 18,\n",
       "         'delete': 19,\n",
       "         'agents': 16,\n",
       "         'list': 32,\n",
       "         'system_reader_api': 47,\n",
       "         'system_or_project_reader': 24,\n",
       "         'remove': 4,\n",
       "         'server': 7,\n",
       "         'password': 7,\n",
       "         'show': 19,\n",
       "         'clear': 3,\n",
       "         'scope': 6,\n",
       "         'check': 2,\n",
       "         'token': 2,\n",
       "         'used': 2,\n",
       "         'make': 2,\n",
       "         'request': 2,\n",
       "         'was': 2,\n",
       "         'project': 2,\n",
       "         'scoped': 2,\n",
       "         'but': 3,\n",
       "         'requires': 2,\n",
       "         'system': 2,\n",
       "         'this': 3,\n",
       "         'behavior': 2,\n",
       "         'may': 2,\n",
       "         'change': 2,\n",
       "         'future': 2,\n",
       "         'where': 2,\n",
       "         'using': 2,\n",
       "         'intended': 2,\n",
       "         'required': 2,\n",
       "         'attach': 16,\n",
       "         'interfaces': 16,\n",
       "         'deferred': 8,\n",
       "         'restore': 4,\n",
       "         'create': 8,\n",
       "         'force': 4,\n",
       "         'hypervisors': 28,\n",
       "         'statistics': 4,\n",
       "         'instance': 15,\n",
       "         'usage': 7,\n",
       "         'audit': 7,\n",
       "         'log': 7,\n",
       "         'search': 4,\n",
       "         'actions': 7,\n",
       "         'uptime': 4,\n",
       "         'limits': 4,\n",
       "         'other_project': 4,\n",
       "         'unrescue': 4,\n",
       "         'granular': 4,\n",
       "         'rescue': 4,\n",
       "         'dbl032113': 1,\n",
       "         'has': 1,\n",
       "         'allocations': 1,\n",
       "         'against': 1,\n",
       "         'not': 1,\n",
       "         'found': 1,\n",
       "         'fes300313': 1,\n",
       "         'local': 1,\n",
       "         '6dbb94c5d5': 1,\n",
       "         'twfmg': 1,\n",
       "         'flavors': 1})"
      ]
     },
     "execution_count": 22,
     "metadata": {},
     "output_type": "execute_result"
    }
   ],
   "source": [
    "Counter(all_words)"
   ]
  },
  {
   "cell_type": "code",
   "execution_count": 23,
   "metadata": {},
   "outputs": [
    {
     "data": {
      "text/plain": [
       "array(['get', 'status', '200', '0.0', '0.0', '0.0', '0.0', '0.0', '0.0',\n",
       "       '0.0', '0.0', '0.0', '0.0', '0.0', '0.0', '0.0', '0.0', '0.0',\n",
       "       '0.0', '0.0', '0.0', '0.0', '0.0', '0.0', '0.0', '0.0', '0.0',\n",
       "       '0.0', '0.0', '0.0', '0.0', '0.0', '0.0', '0.0', '0.0', '0.0',\n",
       "       '0.0', '0.0', '0.0', '0.0'], dtype='<U32')"
      ]
     },
     "execution_count": 23,
     "metadata": {},
     "output_type": "execute_result"
    }
   ],
   "source": [
    "#Sentences are padded wit 0's to keep the length consistent in each row\n",
    "empty[0]"
   ]
  },
  {
   "cell_type": "code",
   "execution_count": 29,
   "metadata": {},
   "outputs": [],
   "source": [
    "onehot_enc = OneHotEncoder(sparse=False)\n",
    "X = onehot_enc.fit_transform(empty)"
   ]
  },
  {
   "cell_type": "code",
   "execution_count": 30,
   "metadata": {},
   "outputs": [
    {
     "data": {
      "text/plain": [
       "array([['get', 'status', '200', ..., '0.0', '0.0', '0.0'],\n",
       "       ['get', 'status', '200', ..., '0.0', '0.0', '0.0'],\n",
       "       ['get', 'status', '200', ..., '0.0', '0.0', '0.0'],\n",
       "       ...,\n",
       "       ['deprecated', 'in', '21', ..., '0.0', '0.0', '0.0'],\n",
       "       ['new', 'default', 'roles', ..., '0.0', '0.0', '0.0'],\n",
       "       ['new', 'default', 'roles', ..., '0.0', '0.0', '0.0']],\n",
       "      dtype=object)"
      ]
     },
     "execution_count": 30,
     "metadata": {},
     "output_type": "execute_result"
    }
   ],
   "source": [
    "onehot_enc.inverse_transform(X)"
   ]
  },
  {
   "cell_type": "code",
   "execution_count": 31,
   "metadata": {},
   "outputs": [
    {
     "name": "stdout",
     "output_type": "stream",
     "text": [
      "[0. 0. 1. 0. 0. 0. 0. 0. 0. 0. 0. 0. 0. 0. 0. 0. 0. 0. 1. 0. 0. 1. 0. 0.\n",
      " 0. 0. 0. 0. 0. 0. 0. 0. 0. 0. 0. 1. 0. 0. 0. 0. 0. 0. 0. 0. 0. 0. 0. 0.\n",
      " 0. 1. 0. 0. 0. 0. 0. 0. 0. 0. 0. 0. 0. 0. 0. 1. 0. 0. 0. 0. 0. 0. 0. 0.\n",
      " 0. 0. 0. 0. 0. 0. 0. 0. 0. 0. 1. 0. 0. 0. 0. 0. 0. 0. 0. 0. 0. 0. 0. 1.\n",
      " 0. 0. 0. 0. 0. 0. 0. 0. 0. 0. 0. 1. 0. 0. 0. 0. 0. 0. 0. 0. 0. 1. 0. 0.\n",
      " 0. 0. 0. 0. 0. 0. 0. 0. 1. 0. 0. 0. 0. 0. 0. 0. 0. 0. 0. 0. 0. 0. 0. 0.\n",
      " 0. 0. 1. 0. 0. 0. 0. 0. 0. 0. 0. 0. 0. 0. 0. 0. 0. 0. 0. 0. 0. 0. 0. 0.\n",
      " 0. 1. 0. 0. 0. 0. 0. 0. 0. 0. 0. 0. 0. 0. 0. 0. 0. 0. 0. 0. 0. 0. 1. 0.\n",
      " 0. 0. 0. 0. 0. 0. 0. 0. 0. 1. 0. 0. 0. 0. 0. 0. 0. 0. 1. 0. 0. 0. 0. 1.\n",
      " 0. 0. 0. 1. 0. 0. 0. 1. 0. 0. 1. 0. 0. 1. 0. 1. 0. 1. 0. 1. 0. 1. 0. 1.\n",
      " 0. 1. 0. 1. 0. 1. 0. 1. 0. 1. 0. 1. 0. 1. 1. 1. 1. 1. 1. 1. 1.]\n"
     ]
    }
   ],
   "source": [
    "print(X[0])"
   ]
  },
  {
   "cell_type": "code",
   "execution_count": 32,
   "metadata": {},
   "outputs": [],
   "source": [
    "\n",
    "import random\n",
    "random.shuffle(X)"
   ]
  },
  {
   "cell_type": "code",
   "execution_count": 35,
   "metadata": {},
   "outputs": [
    {
     "name": "stdout",
     "output_type": "stream",
     "text": [
      "IsolationForest(contamination=0.03)\n",
      "<class 'numpy.ndarray'>\n"
     ]
    }
   ],
   "source": [
    "if_model=IsolationForest(n_estimators=100, contamination=0.03)\n",
    "if_model.fit(X)\n",
    "print(if_model)\n",
    "\n",
    "score_pred = if_model.decision_function(X)\n",
    "#print(score_pred)\n",
    "pred = if_model.predict(X)\n",
    "#print(pred)\n",
    "print(type(pred))"
   ]
  },
  {
   "cell_type": "code",
   "execution_count": 36,
   "metadata": {},
   "outputs": [
    {
     "name": "stdout",
     "output_type": "stream",
     "text": [
      "[[1, 1, 1, 1, 1, 1, 1, 1, 1, 1, 1, 1, 1, 1, -1, 1, 1, 1, 1, 1, 1, 1, -1, 1, 1, 1, 1, 1, 1, -1, -1, 1, 1, 1, 1, 1, 1, 1, 1, 1, 1, 1, 1, 1, 1, 1, 1, -1, 1, 1, 1, 1, 1, 1, 1, 1, 1, 1, 1, 1, 1, 1, 1, 1, 1, 1, 1, 1, 1, 1, 1, 1, 1, 1, 1, 1, 1, 1, 1, -1, 1, 1, 1, 1, 1, 1, -1, 1, 1, 1, 1, 1, 1, 1, 1, 1, 1, 1, 1, 1, -1, 1, 1, 1, 1, 1, 1, 1, 1, 1, 1, 1, 1, 1, 1, 1, 1, 1, 1, 1, 1, 1, 1, 1, 1, 1, 1, 1, 1, 1, 1, 1, 1, 1, 1, 1, 1, 1, 1, 1, 1, 1, 1, 1, 1, 1, 1, 1, 1, 1, 1, 1, 1, 1, 1, 1, 1, 1, 1, 1, 1, 1, 1, 1, 1, 1, 1, 1, 1, 1, 1, 1, 1, 1, 1, 1, 1, 1, 1, 1, -1, 1, 1, 1, 1, 1, 1, 1, 1, 1, 1, -1, 1, 1, 1, 1, 1, 1, 1, 1, 1, 1, 1, 1, 1, 1, 1, 1, 1, 1, 1, 1, 1, 1, 1, 1, 1, 1, 1, 1, 1, 1, 1, 1, 1, 1, 1, 1, 1, 1, 1, 1, -1, 1, 1, 1, 1, 1, 1, 1, 1, 1, 1, 1, 1, 1, 1, -1, 1, 1, 1, 1, 1, 1, 1, 1, 1, 1, 1, 1, 1, 1, 1, 1, 1, 1, 1, 1, 1, 1, 1, 1, 1, 1, 1, 1, 1, 1, 1, 1, 1, 1, 1, 1, 1, 1, 1, 1, -1, 1, 1, 1, 1, 1, 1, 1, 1, 1, 1, 1, 1, 1, 1, 1, 1, 1, 1, 1, 1, 1, 1, 1, 1, 1, 1, 1, 1, 1, 1, 1, 1, 1, 1, 1, 1, 1, 1, 1, 1, 1, -1, 1, 1, 1, 1, 1, 1, 1, 1, 1, 1, 1, 1, 1, 1, 1, 1, 1, 1, 1, -1, 1, 1, 1, 1, 1, 1, 1, 1, 1, 1, 1, 1, 1, 1, 1, 1, 1, 1, 1, 1, 1, 1, 1, 1, 1, 1, 1, 1, 1, -1, 1, 1, 1, 1, 1, 1, 1, 1, 1, 1, 1, 1, 1, 1, 1, 1, 1, 1, 1, 1, 1, 1, 1, 1, 1, 1, 1, 1, 1, 1, 1, 1, 1, 1, 1, 1, 1, 1, 1, 1, 1, 1, 1, 1, 1, 1, 1, 1, 1, 1, 1, 1, 1, 1, 1, 1, 1, 1, 1, 1, 1, 1, 1, 1, 1, 1, 1, 1, 1, 1, 1, 1, 1, 1, 1, 1, 1, 1, 1, 1, 1, 1, 1, 1, 1, 1, 1, 1, 1, 1, 1, 1, 1, 1, 1, 1, 1, 1, 1, 1, 1, 1, 1, 1, -1, 1, 1, 1, -1, 1, 1, 1, 1, 1, 1, 1, 1, 1, 1, 1, 1, 1, 1, -1, 1, 1, 1, 1, 1, 1, 1, 1, 1, 1, 1, 1, -1, 1, 1, 1, 1, 1, 1, 1, 1, 1, 1, 1, 1, 1, 1, 1, 1, 1, 1, 1, 1, 1, 1, 1, 1, 1, 1, 1, 1, 1, 1, 1, -1, 1, 1, 1, 1, 1, 1, 1, 1, 1, 1, 1, 1, -1, 1, 1, 1, 1, 1, 1, 1, 1, 1, 1, 1, 1, 1, 1, 1, 1, 1, 1, 1, 1, 1, 1, 1, 1, 1, 1, 1, 1, 1, 1, 1, 1, 1, 1, 1, 1, 1, 1, 1, 1, 1, 1, 1, 1, 1, 1, 1, 1, 1, 1, 1, 1, 1, 1, 1, 1, 1, 1, 1, 1, 1, 1, 1, 1, 1, 1, 1, 1, 1, 1, 1, 1, 1, 1, 1, 1, 1, 1, 1, 1, 1, 1, 1, 1, 1, 1, 1, 1, 1, 1, 1, 1, 1, 1, 1, 1, 1, 1, 1, 1, 1, 1, 1, 1, 1, 1, 1, 1, 1, 1, 1, 1, 1, 1, 1, 1, 1, 1, 1, 1, 1, 1, 1, 1, 1, 1, 1, 1, 1, 1, 1, 1, 1, 1, 1, 1, 1, 1, 1, 1, 1, 1, 1, 1, 1, 1, 1, 1, 1, 1, 1, 1, 1, 1, 1, 1, 1, 1, 1, 1, 1, 1, 1, 1, 1, 1, 1, 1, 1, 1, 1, 1, 1, 1, 1, 1, 1, 1, 1, 1, 1, 1, 1, 1, 1, 1, 1, 1, 1, -1, 1, 1, 1, 1, 1, 1, 1, 1]]\n",
      "<class 'list'>\n"
     ]
    },
    {
     "data": {
      "text/plain": [
       "Counter({1: 738, -1: 23})"
      ]
     },
     "execution_count": 36,
     "metadata": {},
     "output_type": "execute_result"
    }
   ],
   "source": [
    "arr = np.array([pred])\n",
    "list1 = arr.tolist()\n",
    "print(list1)\n",
    "print(type(list1))\n",
    "Counter(pred)"
   ]
  },
  {
   "cell_type": "code",
   "execution_count": null,
   "metadata": {},
   "outputs": [],
   "source": []
  }
 ],
 "metadata": {
  "kernelspec": {
   "display_name": "Python 3.9.7 ('myenv')",
   "language": "python",
   "name": "python3"
  },
  "language_info": {
   "codemirror_mode": {
    "name": "ipython",
    "version": 3
   },
   "file_extension": ".py",
   "mimetype": "text/x-python",
   "name": "python",
   "nbconvert_exporter": "python",
   "pygments_lexer": "ipython3",
   "version": "3.9.7"
  },
  "orig_nbformat": 4,
  "vscode": {
   "interpreter": {
    "hash": "97f5f5048155191e25e7594c3d530b5ff4e9dff284a45544d3319aeed2095960"
   }
  }
 },
 "nbformat": 4,
 "nbformat_minor": 2
}
